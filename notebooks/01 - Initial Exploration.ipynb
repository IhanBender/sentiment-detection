{
 "cells": [
  {
   "cell_type": "markdown",
   "metadata": {},
   "source": [
    "# Detecting Sentiment Based on OpenAi Solution\n",
    "\n",
    "https://openai.com/blog/unsupervised-sentiment-neuron/\n",
    "\n",
    "This solution consists on using a multiplicative LSTM (mLSTM) to simply predict the next charactere on product reviews. After training the recurrent network, use it's hidden units to train a classifier.\n",
    "\n",
    "In my case, I lack the resources and time available in OpenAi (as long as the knowledge), so I am going to do my best with a few days of training on a GeForce GTX 1050 instead of \"one month across four NVIDIA Pascal GPUs [...] processing 12,500 characters per second.\"\n",
    "\n",
    "Instead of using amazon reviews, I will use a portuguese language review dataset obtained from https://www.kaggle.com/olistbr/brazilian-ecommerce.\n",
    "\n",
    "This project was made for the natural language processing discipline, UFPELs computer science course."
   ]
  },
  {
   "cell_type": "code",
   "execution_count": 1,
   "metadata": {},
   "outputs": [
    {
     "data": {
      "text/html": [
       "<div>\n",
       "<style scoped>\n",
       "    .dataframe tbody tr th:only-of-type {\n",
       "        vertical-align: middle;\n",
       "    }\n",
       "\n",
       "    .dataframe tbody tr th {\n",
       "        vertical-align: top;\n",
       "    }\n",
       "\n",
       "    .dataframe thead th {\n",
       "        text-align: right;\n",
       "    }\n",
       "</style>\n",
       "<table border=\"1\" class=\"dataframe\">\n",
       "  <thead>\n",
       "    <tr style=\"text-align: right;\">\n",
       "      <th></th>\n",
       "      <th>review_score</th>\n",
       "      <th>review_comment_message</th>\n",
       "    </tr>\n",
       "  </thead>\n",
       "  <tbody>\n",
       "    <tr>\n",
       "      <th>3</th>\n",
       "      <td>5</td>\n",
       "      <td>Recebi bem antes do prazo estipulado.</td>\n",
       "    </tr>\n",
       "    <tr>\n",
       "      <th>4</th>\n",
       "      <td>5</td>\n",
       "      <td>Parabéns lojas lannister adorei comprar pela I...</td>\n",
       "    </tr>\n",
       "    <tr>\n",
       "      <th>9</th>\n",
       "      <td>4</td>\n",
       "      <td>aparelho eficiente. no site a marca do aparelh...</td>\n",
       "    </tr>\n",
       "    <tr>\n",
       "      <th>12</th>\n",
       "      <td>4</td>\n",
       "      <td>Mas um pouco ,travando...pelo valor ta Boa.\\r\\n</td>\n",
       "    </tr>\n",
       "    <tr>\n",
       "      <th>15</th>\n",
       "      <td>5</td>\n",
       "      <td>Vendedor confiável, produto ok e entrega antes...</td>\n",
       "    </tr>\n",
       "  </tbody>\n",
       "</table>\n",
       "</div>"
      ],
      "text/plain": [
       "    review_score                             review_comment_message\n",
       "3              5              Recebi bem antes do prazo estipulado.\n",
       "4              5  Parabéns lojas lannister adorei comprar pela I...\n",
       "9              4  aparelho eficiente. no site a marca do aparelh...\n",
       "12             4    Mas um pouco ,travando...pelo valor ta Boa.\\r\\n\n",
       "15             5  Vendedor confiável, produto ok e entrega antes..."
      ]
     },
     "execution_count": 1,
     "metadata": {},
     "output_type": "execute_result"
    }
   ],
   "source": [
    "import os\n",
    "import sys\n",
    "import pandas as pd\n",
    "import random\n",
    "raw_data = \"../data/raw/\"\n",
    "\n",
    "reviews = pd.read_csv(os.path.join(raw_data, \"olist_order_reviews_dataset.csv\"), \n",
    "                      usecols=[\"review_score\", \"review_comment_message\"]).fillna(\"\")\n",
    "reviews = reviews[reviews.review_comment_message != \"\"]\n",
    "reviews.head()"
   ]
  },
  {
   "cell_type": "code",
   "execution_count": 2,
   "metadata": {},
   "outputs": [],
   "source": [
    "separated = dict()\n",
    "for score, comment in set(list(map(tuple, reviews.values))):\n",
    "    try:\n",
    "        separated[score].add(comment)\n",
    "    except:\n",
    "        separated[score] = {comment}\n",
    "        \n",
    "    \n",
    "train, test = [], []\n",
    "for key in separated:\n",
    "    test_examples = random.sample(separated[key], k=int(len(separated[key]) * 0.2))\n",
    "    train_examples = [x for x in separated[key] if x not in test_examples]\n",
    "    test_examples = list(test_examples)\n",
    "    \n",
    "    for example in test_examples:\n",
    "        test.append([key, example])\n",
    "    for example in train_examples:\n",
    "        train.append([key, example])\n",
    "    "
   ]
  },
  {
   "cell_type": "code",
   "execution_count": 3,
   "metadata": {},
   "outputs": [],
   "source": [
    "random.shuffle(train)\n",
    "train = pd.DataFrame(train, columns=[\"score\", \"message\"])\n",
    "\n",
    "random.shuffle(test)\n",
    "test = pd.DataFrame(test, columns=[\"score\", \"message\"])"
   ]
  },
  {
   "cell_type": "code",
   "execution_count": 4,
   "metadata": {},
   "outputs": [],
   "source": [
    "train.to_csv(\"../data/interim/train.csv\")\n",
    "test.to_csv(\"../data/interim/test.csv\")"
   ]
  },
  {
   "cell_type": "code",
   "execution_count": 10,
   "metadata": {
    "scrolled": true
   },
   "outputs": [
    {
     "data": {
      "text/plain": [
       "9179"
      ]
     },
     "execution_count": 10,
     "metadata": {},
     "output_type": "execute_result"
    }
   ],
   "source": [
    "len(reviews[reviews.review_score == 1])"
   ]
  },
  {
   "cell_type": "code",
   "execution_count": 11,
   "metadata": {},
   "outputs": [
    {
     "data": {
      "text/plain": [
       "2229"
      ]
     },
     "execution_count": 11,
     "metadata": {},
     "output_type": "execute_result"
    }
   ],
   "source": [
    "len(reviews[reviews.review_score == 2])"
   ]
  },
  {
   "cell_type": "code",
   "execution_count": 12,
   "metadata": {},
   "outputs": [
    {
     "data": {
      "text/plain": [
       "3665"
      ]
     },
     "execution_count": 12,
     "metadata": {},
     "output_type": "execute_result"
    }
   ],
   "source": [
    "len(reviews[reviews.review_score == 3])"
   ]
  },
  {
   "cell_type": "code",
   "execution_count": 13,
   "metadata": {},
   "outputs": [
    {
     "data": {
      "text/plain": [
       "6034"
      ]
     },
     "execution_count": 13,
     "metadata": {},
     "output_type": "execute_result"
    }
   ],
   "source": [
    "len(reviews[reviews.review_score == 4])"
   ]
  },
  {
   "cell_type": "code",
   "execution_count": 14,
   "metadata": {},
   "outputs": [
    {
     "data": {
      "text/plain": [
       "20646"
      ]
     },
     "execution_count": 14,
     "metadata": {},
     "output_type": "execute_result"
    }
   ],
   "source": [
    "len(reviews[reviews.review_score == 5])"
   ]
  }
 ],
 "metadata": {
  "kernelspec": {
   "display_name": "Python 3",
   "language": "python",
   "name": "python3"
  },
  "language_info": {
   "codemirror_mode": {
    "name": "ipython",
    "version": 3
   },
   "file_extension": ".py",
   "mimetype": "text/x-python",
   "name": "python",
   "nbconvert_exporter": "python",
   "pygments_lexer": "ipython3",
   "version": "3.7.4"
  }
 },
 "nbformat": 4,
 "nbformat_minor": 2
}
