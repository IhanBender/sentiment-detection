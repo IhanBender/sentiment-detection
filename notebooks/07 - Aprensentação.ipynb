{
 "cells": [
  {
   "cell_type": "markdown",
   "metadata": {},
   "source": [
    "# Detecção de Sentimento em Análise de Produtos de Lojas Online"
   ]
  },
  {
   "cell_type": "markdown",
   "metadata": {},
   "source": [
    "## Dados Utilizados"
   ]
  },
  {
   "cell_type": "code",
   "execution_count": 6,
   "metadata": {
    "scrolled": true
   },
   "outputs": [],
   "source": [
    "import os\n",
    "import sys\n",
    "import pandas as pd\n",
    "import random\n",
    "raw_data = \"../data/raw/\""
   ]
  },
  {
   "cell_type": "code",
   "execution_count": 72,
   "metadata": {},
   "outputs": [
    {
     "data": {
      "text/html": [
       "<div>\n",
       "<style scoped>\n",
       "    .dataframe tbody tr th:only-of-type {\n",
       "        vertical-align: middle;\n",
       "    }\n",
       "\n",
       "    .dataframe tbody tr th {\n",
       "        vertical-align: top;\n",
       "    }\n",
       "\n",
       "    .dataframe thead th {\n",
       "        text-align: right;\n",
       "    }\n",
       "</style>\n",
       "<table border=\"1\" class=\"dataframe\">\n",
       "  <thead>\n",
       "    <tr style=\"text-align: right;\">\n",
       "      <th></th>\n",
       "      <th>review_id</th>\n",
       "      <th>order_id</th>\n",
       "      <th>review_score</th>\n",
       "      <th>review_comment_title</th>\n",
       "      <th>review_comment_message</th>\n",
       "      <th>review_creation_date</th>\n",
       "      <th>review_answer_timestamp</th>\n",
       "    </tr>\n",
       "  </thead>\n",
       "  <tbody>\n",
       "    <tr>\n",
       "      <td>0</td>\n",
       "      <td>7bc2406110b926393aa56f80a40eba40</td>\n",
       "      <td>73fc7af87114b39712e6da79b0a377eb</td>\n",
       "      <td>4</td>\n",
       "      <td>NaN</td>\n",
       "      <td>NaN</td>\n",
       "      <td>2018-01-18 00:00:00</td>\n",
       "      <td>2018-01-18 21:46:59</td>\n",
       "    </tr>\n",
       "    <tr>\n",
       "      <td>1</td>\n",
       "      <td>80e641a11e56f04c1ad469d5645fdfde</td>\n",
       "      <td>a548910a1c6147796b98fdf73dbeba33</td>\n",
       "      <td>5</td>\n",
       "      <td>NaN</td>\n",
       "      <td>NaN</td>\n",
       "      <td>2018-03-10 00:00:00</td>\n",
       "      <td>2018-03-11 03:05:13</td>\n",
       "    </tr>\n",
       "    <tr>\n",
       "      <td>2</td>\n",
       "      <td>228ce5500dc1d8e020d8d1322874b6f0</td>\n",
       "      <td>f9e4b658b201a9f2ecdecbb34bed034b</td>\n",
       "      <td>5</td>\n",
       "      <td>NaN</td>\n",
       "      <td>NaN</td>\n",
       "      <td>2018-02-17 00:00:00</td>\n",
       "      <td>2018-02-18 14:36:24</td>\n",
       "    </tr>\n",
       "    <tr>\n",
       "      <td>3</td>\n",
       "      <td>e64fb393e7b32834bb789ff8bb30750e</td>\n",
       "      <td>658677c97b385a9be170737859d3511b</td>\n",
       "      <td>5</td>\n",
       "      <td>NaN</td>\n",
       "      <td>Recebi bem antes do prazo estipulado.</td>\n",
       "      <td>2017-04-21 00:00:00</td>\n",
       "      <td>2017-04-21 22:02:06</td>\n",
       "    </tr>\n",
       "    <tr>\n",
       "      <td>4</td>\n",
       "      <td>f7c4243c7fe1938f181bec41a392bdeb</td>\n",
       "      <td>8e6bfb81e283fa7e4f11123a3fb894f1</td>\n",
       "      <td>5</td>\n",
       "      <td>NaN</td>\n",
       "      <td>Parabéns lojas lannister adorei comprar pela I...</td>\n",
       "      <td>2018-03-01 00:00:00</td>\n",
       "      <td>2018-03-02 10:26:53</td>\n",
       "    </tr>\n",
       "  </tbody>\n",
       "</table>\n",
       "</div>"
      ],
      "text/plain": [
       "                          review_id                          order_id  \\\n",
       "0  7bc2406110b926393aa56f80a40eba40  73fc7af87114b39712e6da79b0a377eb   \n",
       "1  80e641a11e56f04c1ad469d5645fdfde  a548910a1c6147796b98fdf73dbeba33   \n",
       "2  228ce5500dc1d8e020d8d1322874b6f0  f9e4b658b201a9f2ecdecbb34bed034b   \n",
       "3  e64fb393e7b32834bb789ff8bb30750e  658677c97b385a9be170737859d3511b   \n",
       "4  f7c4243c7fe1938f181bec41a392bdeb  8e6bfb81e283fa7e4f11123a3fb894f1   \n",
       "\n",
       "   review_score review_comment_title  \\\n",
       "0             4                  NaN   \n",
       "1             5                  NaN   \n",
       "2             5                  NaN   \n",
       "3             5                  NaN   \n",
       "4             5                  NaN   \n",
       "\n",
       "                              review_comment_message review_creation_date  \\\n",
       "0                                                NaN  2018-01-18 00:00:00   \n",
       "1                                                NaN  2018-03-10 00:00:00   \n",
       "2                                                NaN  2018-02-17 00:00:00   \n",
       "3              Recebi bem antes do prazo estipulado.  2017-04-21 00:00:00   \n",
       "4  Parabéns lojas lannister adorei comprar pela I...  2018-03-01 00:00:00   \n",
       "\n",
       "  review_answer_timestamp  \n",
       "0     2018-01-18 21:46:59  \n",
       "1     2018-03-11 03:05:13  \n",
       "2     2018-02-18 14:36:24  \n",
       "3     2017-04-21 22:02:06  \n",
       "4     2018-03-02 10:26:53  "
      ]
     },
     "execution_count": 72,
     "metadata": {},
     "output_type": "execute_result"
    }
   ],
   "source": [
    "reviews = pd.read_csv(os.path.join(raw_data, \"olist_order_reviews_dataset.csv\"))\n",
    "reviews.head()"
   ]
  },
  {
   "cell_type": "code",
   "execution_count": 14,
   "metadata": {},
   "outputs": [],
   "source": [
    "reviews = pd.read_csv(os.path.join(raw_data, \"olist_order_reviews_dataset.csv\")).fillna(\"\")\n",
    "reviews.head()"
   ]
  },
  {
   "cell_type": "code",
   "execution_count": 15,
   "metadata": {},
   "outputs": [],
   "source": [
    "reviews = pd.read_csv(os.path.join(raw_data, \"olist_order_reviews_dataset.csv\"), \n",
    "                      usecols=[\"review_score\", \"review_comment_message\"]).fillna(\"\")\n",
    "reviews.head()"
   ]
  },
  {
   "cell_type": "code",
   "execution_count": 16,
   "metadata": {},
   "outputs": [],
   "source": [
    "reviews = pd.read_csv(os.path.join(raw_data, \"olist_order_reviews_dataset.csv\"), \n",
    "                      usecols=[\"review_score\", \"review_comment_message\"]).fillna(\"\")\n",
    "reviews = reviews[reviews.review_comment_message != \"\"]\n",
    "reviews.head()"
   ]
  },
  {
   "cell_type": "markdown",
   "metadata": {},
   "source": [
    "<b>Separação do Dataset</b>"
   ]
  },
  {
   "cell_type": "code",
   "execution_count": 17,
   "metadata": {},
   "outputs": [],
   "source": [
    "separated = dict()\n",
    "for score, comment in set(list(map(tuple, reviews.values))):\n",
    "    try:\n",
    "        separated[score].add(comment)\n",
    "    except:\n",
    "        separated[score] = {comment}\n",
    "        \n",
    "    \n",
    "train, test = [], []\n",
    "for key in separated:\n",
    "    test_examples = random.sample(separated[key], k=int(len(separated[key]) * 0.2))\n",
    "    train_examples = [x for x in separated[key] if x not in test_examples]\n",
    "    test_examples = list(test_examples)\n",
    "    \n",
    "    for example in test_examples:\n",
    "        test.append([key, example])\n",
    "    for example in train_examples:\n",
    "        train.append([key, example])\n",
    "        \n",
    "        \n",
    "# Shuffle labels\n",
    "random.shuffle(train)\n",
    "train = pd.DataFrame(train, columns=[\"score\", \"message\"])\n",
    "random.shuffle(test)\n",
    "test = pd.DataFrame(test, columns=[\"score\", \"message\"])"
   ]
  },
  {
   "cell_type": "code",
   "execution_count": 19,
   "metadata": {},
   "outputs": [],
   "source": [
    "train.to_csv(\"../data/interim/train.csv\")\n",
    "test.to_csv(\"../data/interim/test.csv\")"
   ]
  },
  {
   "cell_type": "markdown",
   "metadata": {},
   "source": [
    "## Modelo de Rede Neural Convolucional"
   ]
  },
  {
   "cell_type": "code",
   "execution_count": 20,
   "metadata": {},
   "outputs": [],
   "source": [
    "import torch\n",
    "import torch.nn as nn\n",
    "from torch.autograd import Variable\n",
    "import torch.nn.functional as F\n",
    "\n",
    "class mLSTM(nn.Module):\n",
    "    def __init__(self, input_size, hidden_size, embed_size, output_size):\n",
    "        super(mLSTM, self).__init__()\n",
    "\n",
    "        self.hidden_size = hidden_size\n",
    "        # input embedding\n",
    "        self.encoder = nn.Embedding(input_size, embed_size)\n",
    "        # lstm weights\n",
    "        self.weight_fm = nn.Linear(hidden_size, hidden_size)\n",
    "        self.weight_im = nn.Linear(hidden_size, hidden_size)\n",
    "        self.weight_cm = nn.Linear(hidden_size, hidden_size)\n",
    "        self.weight_om = nn.Linear(hidden_size, hidden_size)\n",
    "        self.weight_fx = nn.Linear(embed_size, hidden_size)\n",
    "        self.weight_ix = nn.Linear(embed_size, hidden_size)\n",
    "        self.weight_cx = nn.Linear(embed_size, hidden_size)\n",
    "        self.weight_ox = nn.Linear(embed_size, hidden_size)\n",
    "        # multiplicative weights\n",
    "        self.weight_mh = nn.Linear(hidden_size, hidden_size)\n",
    "        self.weight_mx = nn.Linear(embed_size, hidden_size)\n",
    "        # decoder\n",
    "        self.decoder = nn.Linear(hidden_size, output_size)\n",
    "\n",
    "    def forward(self, inp, h_0, c_0):\n",
    "        # encode the input characters\n",
    "        inp = self.encoder(inp)\n",
    "        # calculate the multiplicative matrix\n",
    "        m_t = self.weight_mx(inp) * self.weight_mh(h_0)\n",
    "        # forget, input and output gates\n",
    "        f_g = torch.sigmoid(self.weight_fx(inp) + self.weight_fm(m_t))\n",
    "        i_g = torch.sigmoid(self.weight_ix(inp) + self.weight_im(m_t))\n",
    "        o_g = torch.sigmoid(self.weight_ox(inp) + self.weight_om(m_t))\n",
    "        # intermediate cell state\n",
    "        c_tilda = torch.tanh(self.weight_cx(inp) + self.weight_cm(m_t))\n",
    "        # current cell state\n",
    "        cx = f_g * c_0 + i_g * c_tilda\n",
    "        # hidden state\n",
    "        hx = o_g * torch.tanh(cx)\n",
    "\n",
    "        out = self.decoder(hx.view(1,-1))\n",
    "\n",
    "        return out, hx, cx\n",
    "\n",
    "    def init_hidden(self):\n",
    "        h_0 = Variable(torch.zeros(1, self.hidden_size)).cuda()\n",
    "        c_0 = Variable(torch.zeros(1, self.hidden_size)).cuda()\n",
    "        return h_0, c_0\n",
    "\n"
   ]
  },
  {
   "cell_type": "code",
   "execution_count": 23,
   "metadata": {},
   "outputs": [
    {
     "name": "stdout",
     "output_type": "stream",
     "text": [
      "tensor([ 84, 104, 101,  32, 111, 109, 101, 103,  97,  32,  40,  79,  41,  32,\n",
      "        115, 121, 109,  98, 111, 108,  10])\n"
     ]
    }
   ],
   "source": [
    "# Converte string para uma lista de inteiros\n",
    "from unidecode import unidecode\n",
    "import random\n",
    "\n",
    "def char_tensor(string):\n",
    "    string = unidecode(string)\n",
    "    tensor = torch.zeros(len(string)).long()\n",
    "    for c in range(len(string)):\n",
    "        try:\n",
    "            tensor[c] = ord(string[c])\n",
    "        except:\n",
    "            print(c)\n",
    "            raise\n",
    "    return Variable(tensor)\n",
    "\n",
    "print(char_tensor('The omega (Ω) symbol\\n'))  "
   ]
  },
  {
   "cell_type": "markdown",
   "metadata": {},
   "source": [
    "## Modelo de Rede Neural Artificial"
   ]
  },
  {
   "cell_type": "code",
   "execution_count": 29,
   "metadata": {},
   "outputs": [],
   "source": [
    "class Net(nn.Module):\n",
    "    def __init__(self):\n",
    "        super(Net, self).__init__()\n",
    "        self.rnn = mLSTM(embed_size, hidden_size, embed_size, embed_size).cuda()\n",
    "        self.rnn.load_state_dict(torch.load(\"lstm_11.pth\"))\n",
    "        self.fc1 = nn.Linear(2*hidden_size, hidden_size)\n",
    "        self.fc2 = nn.Linear(hidden_size, int(hidden_size/4))\n",
    "        self.fc3 = nn.Linear(int(hidden_size/4), int(hidden_size/2))\n",
    "        self.fc4 = nn.Linear(int(hidden_size/2), 5)\n",
    "        self.dropout = nn.Dropout(0.5) \n",
    "        \n",
    "    def forward(self, text_tensor):\n",
    "        with torch.no_grad():\n",
    "            hidden, cell = self.rnn.init_hidden()\n",
    "            for p in range(len(text_tensor)):\n",
    "                _, hidden, cell = self.rnn(text_tensor[p], hidden, cell)\n",
    "        \n",
    "        \n",
    "        x = torch.cat((hidden, cell), 0).view(1, -1)\n",
    "        x = F.relu(self.dropout(self.fc1(x)))\n",
    "        x = F.relu(self.dropout(self.fc2(x)))\n",
    "        x = F.relu(self.dropout(self.fc3(x)))\n",
    "        x = F.relu(self.fc4(x))\n",
    "        return x"
   ]
  },
  {
   "cell_type": "markdown",
   "metadata": {},
   "source": [
    "## Analisador Automático de Sentimento"
   ]
  },
  {
   "cell_type": "code",
   "execution_count": 54,
   "metadata": {},
   "outputs": [],
   "source": [
    "import numpy as np\n",
    "\n",
    "class SentimentDetector():\n",
    "    \n",
    "    def __init__(self):\n",
    "        embed_size = 128 # ascii representation\n",
    "        hidden_size = 2048\n",
    "\n",
    "        self.net = Net()\n",
    "        self.net.load_state_dict(torch.load(\"net_9.pth\"))\n",
    "        self.net.cuda()\n",
    "        self.net.eval()\n",
    "        \n",
    "    def _getScore(self, prediction):\n",
    "        hiscore, higrade = 1, 0\n",
    "        for score, e in enumerate(list(prediction.detach()[0])):\n",
    "            if e.item() > higrade:\n",
    "                hiscore = score+1\n",
    "                higrade = e.item()\n",
    "        return hiscore, higrade\n",
    "        \n",
    "    def detectSentiment(self, text):\n",
    "        tensor = char_tensor(text).cuda()\n",
    "        pred = self.net(tensor)\n",
    "        \n",
    "        score, grade = self._getScore(pred)\n",
    "        if grade == 0:\n",
    "            return \"Not Conclusive!\"\n",
    "        \n",
    "        if score >= 4:\n",
    "            return \"Positive! ({})\".format(pred)\n",
    "        return \"Negative! ({})\".format(pred)\n",
    "        "
   ]
  },
  {
   "cell_type": "code",
   "execution_count": 55,
   "metadata": {},
   "outputs": [],
   "source": [
    "detector = SentimentDetector()"
   ]
  },
  {
   "cell_type": "code",
   "execution_count": 69,
   "metadata": {},
   "outputs": [
    {
     "data": {
      "text/plain": [
       "\"Positive! (tensor([[0.0000, 0.0000, 0.0000, 0.0000, 1.8127]], device='cuda:0',\\n       grad_fn=<ReluBackward0>))\""
      ]
     },
     "execution_count": 69,
     "metadata": {},
     "output_type": "execute_result"
    }
   ],
   "source": [
    "detector.detectSentiment(\"Mano, tava quase rasgando meu c# na cerca e pedindo refound pq o jogo tava a 40 fps no médio e pesando dms no pc. Gráfico já tava meio feio e embaçadão dava nem p ver longe.. Até q resolvi coisa a primeira opção dos gráficos: Nível predefinido de qualidade [Equilibrado] Deixei assim, ele colocou uma config q ficou equilibrado performance e qualidade (AVA SERIO)? Agora o game ta liso lisoo e lindooo, os gráficos estão com mais qualidade e o game rodando de boinha :D Quando vocês mudarem por lá irão ver como vai ficar a configuração.. Tenta ai vocês q estão com o mesmo problema/sentimento que eu estava. Espero ter ajudado! Bjo! OBS: TA CARO P CARALHOU OAIEOIWIOOWOOOW Q ISSO '-' \")"
   ]
  },
  {
   "cell_type": "code",
   "execution_count": 70,
   "metadata": {},
   "outputs": [
    {
     "data": {
      "text/plain": [
       "\"Negative! (tensor([[0.5551, 0.0000, 0.0000, 0.0000, 0.0000]], device='cuda:0',\\n       grad_fn=<ReluBackward0>))\""
      ]
     },
     "execution_count": 70,
     "metadata": {},
     "output_type": "execute_result"
    }
   ],
   "source": [
    "detector.detectSentiment(\"Mano, tava quase rasgando meu c# na cerca e pedindo refound pq o jogo tava a 40 fps no médio e pesando dms no pc. Gráfico já tava meio feio e embaçadão dava nem p ver longe..\")"
   ]
  },
  {
   "cell_type": "code",
   "execution_count": 71,
   "metadata": {},
   "outputs": [
    {
     "data": {
      "text/plain": [
       "\"Negative! (tensor([[0.6149, 0.0000, 0.0000, 0.0000, 0.0000]], device='cuda:0',\\n       grad_fn=<ReluBackward0>))\""
      ]
     },
     "execution_count": 71,
     "metadata": {},
     "output_type": "execute_result"
    }
   ],
   "source": [
    "detector.detectSentiment(\"O jogo parece aqueles ports que a Konami faz com o PES pra PC. atalho de teclas que conflitam com atalhos do Steam e da nVidia.\")"
   ]
  },
  {
   "cell_type": "code",
   "execution_count": 74,
   "metadata": {},
   "outputs": [
    {
     "data": {
      "text/plain": [
       "\"Negative! (tensor([[0.4320, 0.0000, 0.0000, 0.0000, 0.2681]], device='cuda:0',\\n       grad_fn=<ReluBackward0>))\""
      ]
     },
     "execution_count": 74,
     "metadata": {},
     "output_type": "execute_result"
    }
   ],
   "source": [
    "detector.detectSentiment(\"Incrível! Estragou no primeiro dia\")"
   ]
  }
 ],
 "metadata": {
  "kernelspec": {
   "display_name": "Python 3",
   "language": "python",
   "name": "python3"
  },
  "language_info": {
   "codemirror_mode": {
    "name": "ipython",
    "version": 3
   },
   "file_extension": ".py",
   "mimetype": "text/x-python",
   "name": "python",
   "nbconvert_exporter": "python",
   "pygments_lexer": "ipython3",
   "version": "3.7.4"
  }
 },
 "nbformat": 4,
 "nbformat_minor": 2
}
